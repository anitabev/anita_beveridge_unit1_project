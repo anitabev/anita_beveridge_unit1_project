{
 "cells": [
  {
   "cell_type": "markdown",
   "metadata": {},
   "source": [
    "<img src=\"http://imgur.com/1ZcRyrc.png\" style=\"float: left; margin: 20px; height: 55px\">\n",
    "\n",
    "# Project 1: Python Coding Exercises\n",
    "\n",
    "_Authors: Joseph Nelson (DC) _\n",
    "\n",
    "---"
   ]
  },
  {
   "cell_type": "markdown",
   "metadata": {},
   "source": [
    "The following code challenges are drawn from common exercises used in technical interviews.\n",
    "\n",
    "Please note that there may be several ways to approach each challenge. If you get stuck, try mapping out your approach in pseudocode first. Finally, while solutions to problems like these may be found online, remember that if you copy/paste code that you can't explain, you'll be missing out on the point of the project. The only way to truly learn a new skill is through practice, trial, and error - we can only help you improve by understanding where you are having trouble."
   ]
  },
  {
   "cell_type": "markdown",
   "metadata": {},
   "source": [
    "### Challenge 1: Largest Palindrome\n",
    "A palindromic number reads the same both ways. For example, 1234321 is a palindrome. The largest palindrome made from the product of two two-digit numbers is 9009 = 91 × 99. Find the largest palindrome made from the product of two three-digit numbers. Afterward, write a brief explanation walking through your code's logic in markdown."
   ]
  },
  {
   "cell_type": "code",
   "execution_count": 60,
   "metadata": {
    "collapsed": true
   },
   "outputs": [
    {
     "data": {
      "text/plain": [
       "906609"
      ]
     },
     "execution_count": 60,
     "metadata": {},
     "output_type": "execute_result"
    }
   ],
   "source": [
    "def is_palindrome(num1,num2):\n",
    "    a = (num1*num2)\n",
    "    if str(a) == (str(a)[::-1]):\n",
    "        return True\n",
    "    else:\n",
    "        return False\n",
    "\n",
    "palindromes = []\n",
    "list1 = range(100,1000)\n",
    "list2 = range(100,1000)\n",
    "\n",
    "for num1 in list1:\n",
    "    for num2 in list2:\n",
    "        if is_palindrome(num1, num2):\n",
    "            palindromes += [num1 * num2]            \n",
    "max(palindromes)"
   ]
  },
  {
   "cell_type": "markdown",
   "metadata": {},
   "source": [
    "# The first 3 lines of code are creating the fuction to call later many times to check if a number is a palindrome. [::-1] reverses the order so you can check if it reads the same forwards as it does backwards, because this only works on a string we have to use the str() feature to turn our integers into strings.\n",
    "def is_palindrome(num1,num2):\n",
    "    a = (num1*num2)\n",
    "    if str(a) == (str(a)[::-1]):\n",
    "        return True\n",
    "    else:\n",
    "        return False\n",
    "\n",
    "# Then we create an emptpy list waiting to be filled with all the possible palindromes later.  We also define two lists of ranges to loop through to check if the 3 digit numbers are palinfromes. We go upto 1000 because the range goes up to and not including the number on the right. \n",
    "palindromes = []\n",
    "list1 = range(100,1000)\n",
    "list2 = range(100,1000)\n",
    "\n",
    "# Here we're multiplying all combinaitions of 3 digit numbers. To do this we have to create lists of all 3 digit numbers and then pull one of these at a time from each list to multiply and check if its a palindrome. Then we have to populate our empty palindromes list with all the palindromes\n",
    "for num1 in list1:\n",
    "    for num2 in list2:\n",
    "        if is_palindrome(num1, num2):\n",
    "            palindromes += [num1 * num2]            \n",
    "# Finally we pick the max using the max() method.  \n",
    "max(palindromes)"
   ]
  },
  {
   "cell_type": "markdown",
   "metadata": {},
   "source": [
    "\n",
    "### Challenge 2: Summation of Primes\n",
    "The sum of the primes below 10 is 2 + 3 + 5 + 7 = 17. Find the sum of all the primes below 2,000. Afterward, write a brief explanation walking through your code's logic in markdown."
   ]
  },
  {
   "cell_type": "code",
   "execution_count": 19,
   "metadata": {
    "collapsed": true
   },
   "outputs": [
    {
     "data": {
      "text/plain": [
       "277050"
      ]
     },
     "execution_count": 19,
     "metadata": {},
     "output_type": "execute_result"
    }
   ],
   "source": [
    "def is_prime(n):\n",
    "    for divider in range(2, n):\n",
    "        if n%divider == 0:\n",
    "            return False\n",
    "    return True\n",
    "\n",
    "n = range(2,2000)\n",
    "\n",
    "primes = []\n",
    "\n",
    "for prime in n:\n",
    "    if is_prime(prime):\n",
    "        primes += [prime]     \n",
    "        \n",
    "sum(primes)"
   ]
  },
  {
   "cell_type": "markdown",
   "metadata": {},
   "source": [
    "# defining the function to test if it's a prime number, we want to set the range for the divider (or the number we're dividing by) starting at 2 and going up to but not including the number itself (because we don't want to divide something by itself and get 1). You use the '%' division because you only care if the division leads to a remainder (if it does at any point in the for loop it's not a prime number).  \n",
    "def is_prime(n):\n",
    "    for divider in range(2, n):\n",
    "        if n%divider == 0:\n",
    "            return False\n",
    "    return True\n",
    "# picking our range of values to test if they are prime\n",
    "n = range(2,2000)\n",
    "\n",
    "# creating an empty list to put the prime numbers in after we test them\n",
    "primes = []\n",
    "\n",
    "# checking for every number in our n range we defined above for if the number is true or false based on the function we define above called 'is_prime'. If the output of any of the numbers we're looping through in the n = range above is True then we add them to a new list called primes. \n",
    "for prime in n:\n",
    "    if is_prime(prime):\n",
    "        primes += [prime]     \n",
    "# sum all of the numbers in our primes list\n",
    "sum(primes)"
   ]
  },
  {
   "cell_type": "markdown",
   "metadata": {},
   "source": [
    "### Challenge 3: Multiples of 3 and 5\n",
    "If we list all of the natural numbers below 10 that are multiples of 3 or 5, we get 3, 5, 6, and 9. The sum of these multiples is 23. Find the sum of all the multiples of 3 or 5 below 1,000. Afterward, write a brief explanation walking through your code's logic in markdown."
   ]
  },
  {
   "cell_type": "code",
   "execution_count": 5,
   "metadata": {
    "collapsed": true
   },
   "outputs": [
    {
     "data": {
      "text/plain": [
       "233168"
      ]
     },
     "execution_count": 5,
     "metadata": {},
     "output_type": "execute_result"
    }
   ],
   "source": [
    "def is_multiple(num): \n",
    "    if ((num % 5) == 0) or ((num % 3) == 0):\n",
    "        return True\n",
    "\n",
    "multiples = []\n",
    "\n",
    "for number in range(1, 1000):\n",
    "    if is_multiple(number):\n",
    "        multiples += [number]\n",
    "sum(multiples)"
   ]
  },
  {
   "cell_type": "markdown",
   "metadata": {},
   "source": [
    "# first you define your function to see if something creates a remainder if you divide it by 5 or 3. If it doesn't then it passes the function test. \n",
    "def is_multiple(num): \n",
    "    if ((num % 5) == 0) or ((num % 3) == 0):\n",
    "        return True\n",
    "# we create an empty list to put the multiples of 5 and 3 in\n",
    "multiples = []\n",
    "\n",
    "# we test to see if every number within our range meet the criteria we definied in the first function. if it does then we add it to our multiples list. \n",
    "for number in range(1, 1000):\n",
    "    if is_multiple(number):\n",
    "        multiples += [number]\n",
    "# we sum all values on our multiples list \n",
    "sum(multiples)"
   ]
  },
  {
   "cell_type": "markdown",
   "metadata": {},
   "source": [
    "### Challenge 4: String Compressor\n",
    "Implement a method to perform basic string compression using the counts of repeated characters. (This is called run-length encoding.) For example, the string \"aabcccccaaa\" would become a2b1c5a3. If the “compressed” string would not become smaller than the original string, your method should return the original string. You can assume the string has only uppercase and lowercase letters (a–z). Specify whether your solution is case sensitive or case insensitive and what you would need to change to make it the other. Afterward, write a brief explanation walking through your code's logic in markdown."
   ]
  },
  {
   "cell_type": "code",
   "execution_count": 18,
   "metadata": {
    "collapsed": true
   },
   "outputs": [
    {
     "ename": "NameError",
     "evalue": "name 'aabcccccaaa' is not defined",
     "output_type": "error",
     "traceback": [
      "\u001b[0;31m---------------------------------------------------------------------------\u001b[0m",
      "\u001b[0;31mNameError\u001b[0m                                 Traceback (most recent call last)",
      "\u001b[0;32m<ipython-input-18-c4d489b3b619>\u001b[0m in \u001b[0;36m<module>\u001b[0;34m\u001b[0m\n\u001b[1;32m     14\u001b[0m     \u001b[0;32mreturn\u001b[0m \u001b[0mscore\u001b[0m\u001b[0;34m\u001b[0m\u001b[0m\n\u001b[1;32m     15\u001b[0m \u001b[0;34m\u001b[0m\u001b[0m\n\u001b[0;32m---> 16\u001b[0;31m \u001b[0;32massert\u001b[0m \u001b[0muser_word\u001b[0m\u001b[0;34m(\u001b[0m\u001b[0maabcccccaaa\u001b[0m\u001b[0;34m)\u001b[0m \u001b[0;34m==\u001b[0m \u001b[0;36m11\u001b[0m\u001b[0;34m\u001b[0m\u001b[0m\n\u001b[0m",
      "\u001b[0;31mNameError\u001b[0m: name 'aabcccccaaa' is not defined"
     ]
    }
   ],
   "source": [
    "#ran out of time for this question, sorry! \n",
    "\n",
    "def score_word(user_word):\n",
    "    # creates a dictionary of letters and associated scores.\n",
    "    letter_score = {letter:counter + 1 for counter,letter in enumerate(string.ascii_lowercase)}\n",
    "    # added level to ensure letters used are uniform\n",
    "    lower_word = user_word.lower()\n",
    "    \n",
    "    # Baseline score to add to\n",
    "    score = 0\n",
    "    \n",
    "    # iterates through the argument word and adds their scores to the total\n",
    "    for letter in lower_word:\n",
    "        score += letter_score[letter]\n",
    "        \n",
    "    return score\n",
    "\n",
    "assert user_word(aabcccccaaa) == a2b1c5a3"
   ]
  },
  {
   "cell_type": "markdown",
   "metadata": {},
   "source": [
    "I totally ran out of time for this one. It wasn't something that we explicitly covered in class that I remember. I found that piece of code in one of the practice sections of the course book which I think I would try and work through. \n",
    "\n",
    "Otherwise, Using what I Know already, I would try and combine a `for i in range(len(string)):\n",
    "    letter = string[i]` \n",
    "    \n",
    "With something like: for each letter in the string, if the letter is the same as the previous letter, add one to the running count otherwise, add the previous letter and the count to the final string, reset the count, and move on. \n",
    "\n",
    "Then use an if funtion to say 'if the result of turning the string into that is less than not then use it.' "
   ]
  },
  {
   "cell_type": "markdown",
   "metadata": {},
   "source": [
    "### Challenge 5: FizzBuzz\n",
    "\n",
    "Write a program that prints all of the numbers from 1 to 100. For multiples of 3, instead of the number, print \"Fizz;\" for multiples of 5, print \"Buzz.\" For numbers that are multiples of both 3 and 5, print \"FizzBuzz.\" Afterward, write a brief explanation walking through your code's logic in markdown."
   ]
  },
  {
   "cell_type": "code",
   "execution_count": 86,
   "metadata": {
    "collapsed": true
   },
   "outputs": [
    {
     "name": "stdout",
     "output_type": "stream",
     "text": [
      "1\n",
      "2\n",
      "Fizz\n",
      "4\n",
      "Buzz\n",
      "Fizz\n",
      "7\n",
      "8\n",
      "Fizz\n",
      "Buzz\n",
      "11\n",
      "Fizz\n",
      "13\n",
      "14\n",
      "FizzBuzz\n",
      "16\n",
      "17\n",
      "Fizz\n",
      "19\n",
      "Buzz\n",
      "Fizz\n",
      "22\n",
      "23\n",
      "Fizz\n",
      "Buzz\n",
      "26\n",
      "Fizz\n",
      "28\n",
      "29\n",
      "FizzBuzz\n",
      "31\n",
      "32\n",
      "Fizz\n",
      "34\n",
      "Buzz\n",
      "Fizz\n",
      "37\n",
      "38\n",
      "Fizz\n",
      "Buzz\n",
      "41\n",
      "Fizz\n",
      "43\n",
      "44\n",
      "FizzBuzz\n",
      "46\n",
      "47\n",
      "Fizz\n",
      "49\n",
      "Buzz\n",
      "Fizz\n",
      "52\n",
      "53\n",
      "Fizz\n",
      "Buzz\n",
      "56\n",
      "Fizz\n",
      "58\n",
      "59\n",
      "FizzBuzz\n",
      "61\n",
      "62\n",
      "Fizz\n",
      "64\n",
      "Buzz\n",
      "Fizz\n",
      "67\n",
      "68\n",
      "Fizz\n",
      "Buzz\n",
      "71\n",
      "Fizz\n",
      "73\n",
      "74\n",
      "FizzBuzz\n",
      "76\n",
      "77\n",
      "Fizz\n",
      "79\n",
      "Buzz\n",
      "Fizz\n",
      "82\n",
      "83\n",
      "Fizz\n",
      "Buzz\n",
      "86\n",
      "Fizz\n",
      "88\n",
      "89\n",
      "FizzBuzz\n",
      "91\n",
      "92\n",
      "Fizz\n",
      "94\n",
      "Buzz\n",
      "Fizz\n",
      "97\n",
      "98\n",
      "Fizz\n",
      "Buzz\n"
     ]
    }
   ],
   "source": [
    "for n in range(1,101):\n",
    "    if (n % 5 == 0) and (n % 3 == 0):\n",
    "        print ('FizzBuzz')\n",
    "    elif n % 3 == 0:\n",
    "        print ('Fizz')\n",
    "    elif n % 5 == 0:\n",
    "        print ('Buzz')\n",
    "    else: \n",
    "        print (n)"
   ]
  },
  {
   "cell_type": "markdown",
   "metadata": {},
   "source": [
    "# telling the computer to find for a series of numbers with in a range if 3 or 5 creates a remainder. We start with testing both 5 AND 3 to wipe out those numbers first, then we can use an elif (else if) to assign the 5 and 3 multiples to fizz and buzz. If neither of these criteria are met you print the number itself. \n",
    "for n in range(1,101):\n",
    "    if (n % 5 == 0) and (n % 3 == 0):\n",
    "        print ('FizzBuzz')\n",
    "    elif n % 3 == 0:\n",
    "        print ('Fizz')\n",
    "    elif n % 5 == 0:\n",
    "        print ('Buzz')\n",
    "    else: \n",
    "        print (n)"
   ]
  }
 ],
 "metadata": {
  "anaconda-cloud": {},
  "kernelspec": {
   "display_name": "Python 3",
   "language": "python",
   "name": "python3"
  },
  "language_info": {
   "codemirror_mode": {
    "name": "ipython",
    "version": 3
   },
   "file_extension": ".py",
   "mimetype": "text/x-python",
   "name": "python",
   "nbconvert_exporter": "python",
   "pygments_lexer": "ipython3",
   "version": "3.6.6"
  }
 },
 "nbformat": 4,
 "nbformat_minor": 2
}
